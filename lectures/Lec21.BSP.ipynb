{
 "cells": [
  {
   "cell_type": "markdown",
   "id": "211af576-dd93-499e-a996-4504c14c04bf",
   "metadata": {},
   "source": [
    "## Bulk Synchronous Parallel and Barriers\n",
    "\n",
    "BSP is an abstract model for parallel computation that explicitly accounts for interprocess communication. It was developed to improve upon the parallel RAM (PRAM) and used for algorithmic design. It has become a practical framework for the modelling of algorithms.\n",
    "\n",
    "<img src=\"https://upload.wikimedia.org/wikipedia/commons/e/ee/Bsp.wiki.fig1.svg\" width=\"512\" title=\"BSP\" />\n",
    "\n",
    "BSP algorithms consist of a series of super-steps (figure above). Each super step consists of local computation, communication (with no additional computation) and then a barrier. It is a limited programming model. But, it inherits many of its good properties from the limitation.\n",
    "\n",
    "The cost of a superstep is determined as the sum of three terms:\n",
    "\n",
    "* The cost of the longest-running local computation (skew)\n",
    "* The cost of global communication between the processors (interference)\n",
    "* The cost of the barrier synchronisation at the end of the superstep (interference) "
   ]
  },
  {
   "cell_type": "markdown",
   "id": "28cec57e-d62a-4fa2-9e27-17f50dda3152",
   "metadata": {},
   "source": [
    "### Barriers\n",
    "\n",
    "A barrier is a synchronization construct that blocks the progress of thread/processes until all thread/processes reach the barrier. \n",
    "\n",
    "The MPI documentation states that the `MPI_ Barrier` function\n",
    "\n",
    "> Blocks the caller until all processes in the communicator have called it; that is, the call returns at any process only after all members of the communicator have entered the call.\n",
    "\n",
    "The communicator in this case defines the number of processors.\n",
    "\n",
    "Barriers make BSP work because they split the computation into phases. They are called _one sided_. As such, there can be no circular dependencies and _no deadlock_. There are also read/write race conditions because the computation phase does not overlap the messaging phase. "
   ]
  },
  {
   "cell_type": "markdown",
   "id": "44e571ed-d7b3-43a1-9da1-c9123934d53b",
   "metadata": {},
   "source": [
    "### BSP Programming Frameworks\n",
    "\n",
    "BSP has been implemented as the design principle in many systems. It has many well-defined algorithms. It is also an easy model to program, again because there is no deadlock and no race conditions.\n",
    "\n",
    "  * RBTODO (reword) Map/Reduce and Hadoop! programs are a single BSP superstep. They are limited in that BSP does not require each superstep to be indpendent and stateless.\n",
    "  * Apache Hama is a BSP framework built on top of Hadoop! It has seen little adoption.\n",
    "  * Some graph engines, including Google Pregel and Apache Giraph build on the model and keep state between supersteps.\n"
   ]
  },
  {
   "cell_type": "code",
   "execution_count": null,
   "id": "d5ca69b3-378f-44b2-b69e-bfc252568594",
   "metadata": {},
   "outputs": [],
   "source": []
  }
 ],
 "metadata": {
  "kernelspec": {
   "display_name": "Python 3 (ipykernel)",
   "language": "python",
   "name": "python3"
  },
  "language_info": {
   "codemirror_mode": {
    "name": "ipython",
    "version": 3
   },
   "file_extension": ".py",
   "mimetype": "text/x-python",
   "name": "python",
   "nbconvert_exporter": "python",
   "pygments_lexer": "ipython3",
   "version": "3.10.9"
  }
 },
 "nbformat": 4,
 "nbformat_minor": 5
}
