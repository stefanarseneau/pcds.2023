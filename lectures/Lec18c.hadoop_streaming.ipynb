{
 "cells": [
  {
   "cell_type": "markdown",
   "metadata": {},
   "source": [
    "## Map/Reduce Streaming\n",
    "\n",
    "The Hadoop! Map/Reduce implementation is an engine. You can give it arbitrary executable processes that it will run at scale.  As opposed to .jar files.\n",
    "\n",
    "```bash\n",
    "~/hadoop-3.3.4/bin/mapred streaming -input ../../data/textbible -output /tmp/output4 -mapper mapper.py -reducer reducer.py\n",
    "```\n",
    "\n",
    "It takes two scripts as arguments.\n",
    "\n",
    "### Shell equivalence\n",
    "\n",
    "For the two shell scripts `mapper.py` and `reducer.py` Hadoop! streaming execution is semantically equivalent to \n",
    "```bash\n",
    "cat ../../data/textbible/* | ./mapper.py | sort | ./reducer.py\n",
    "```\n",
    "But, both are different than the java WordCount implementation..........because?\n",
    "\n",
    ".\n",
    "\n",
    ".\n",
    "\n",
    ".\n",
    "\n",
    ".\n",
    "\n",
    ".  Spoiler alert\n",
    "\n",
    ".\n",
    "\n",
    ".\n",
    "\n",
    ".\n",
    "\n",
    ".\n",
    "* Streaming mode in Hadoop! gives a different sorting guarantee\n",
    "* Why?\n",
    "  * There is no schema\n",
    "  * So, it sorts the whole output of mapper.py as a key\n",
    "* This is more restrictive than the default sort\n",
    "  * And, thus, less efficient"
   ]
  },
  {
   "cell_type": "code",
   "execution_count": null,
   "metadata": {},
   "outputs": [],
   "source": []
  }
 ],
 "metadata": {
  "kernelspec": {
   "display_name": "Python 3 (ipykernel)",
   "language": "python",
   "name": "python3"
  },
  "language_info": {
   "codemirror_mode": {
    "name": "ipython",
    "version": 3
   },
   "file_extension": ".py",
   "mimetype": "text/x-python",
   "name": "python",
   "nbconvert_exporter": "python",
   "pygments_lexer": "ipython3",
   "version": "3.10.9"
  }
 },
 "nbformat": 4,
 "nbformat_minor": 4
}
