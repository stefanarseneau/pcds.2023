{
 "cells": [
  {
   "cell_type": "markdown",
   "id": "c26b310f-59f9-4347-bad2-1b4e1e6fe6fe",
   "metadata": {},
   "source": [
    "## Python/Jupyter/Conda/Github (Running the Lectures)\n",
    "\n",
    "(Almost) all lectures will be presented in Jupyter notebooks. Students are encouraged to run the notebooks interactively during the lectures to follow examples. We will often vary code during class to examine the effects of parameters, identify and resolve bugs, etc.\n",
    "\n",
    "The tools we are going to use for lectures:\n",
    "  * python -- interpreted programming language favored by CS-oriented data scientist and ML folks\n",
    "  * conda -- package manager and configuration environment for Python\n",
    "  * jupyter lab -- literate programming environment that mixes code and markdown\n",
    "  * github -- cloud-based repository management for sharing stuff\n",
    "  * and then many others.\n",
    "\n",
    "To get here, I have given you a Docker container.  Follow `environment/instructions` in the [PCDS repo]"
   ]
  },
  {
   "cell_type": "markdown",
   "id": "4bdc508e-ceab-4da8-bd71-9b3b4486834e",
   "metadata": {},
   "source": [
    "## RB notes\n",
    "\n",
    "RB don't do reducers. Don't do loop.\n",
    "RB must put caching first.\n",
    "RB do OpenMP loops and reduction as syntax later.\n",
    "RB loop fusion.  And dynamic scheduling. And loops.\n",
    "\n",
    "You shoud never do vectorization unless you know it hasn't been done.\n",
    "\n",
    "Mon 18 \n",
    "Weds 20 -- Cilk\n",
    "Mon 25 -- OpenMP\n",
    "Weds 27 -- ILP\n",
    "Mon Oct 2 -- vector\n"
   ]
  },
  {
   "cell_type": "markdown",
   "id": "f160dc5d-e43f-4b19-9d92-5ed890775fdf",
   "metadata": {},
   "source": []
  },
  {
   "cell_type": "markdown",
   "id": "a1d03d8e-3f95-4e30-bb59-26638e571961",
   "metadata": {},
   "source": [
    "ask about work and span"
   ]
  },
  {
   "cell_type": "markdown",
   "id": "2582da94-6fc2-4365-84c5-2cf3d5866646",
   "metadata": {},
   "source": [
    "read a simple vectorize program and loop end.  what are pieces?"
   ]
  }
 ],
 "metadata": {
  "kernelspec": {
   "display_name": "Python 3 (ipykernel)",
   "language": "python",
   "name": "python3"
  },
  "language_info": {
   "codemirror_mode": {
    "name": "ipython",
    "version": 3
   },
   "file_extension": ".py",
   "mimetype": "text/x-python",
   "name": "python",
   "nbconvert_exporter": "python",
   "pygments_lexer": "ipython3",
   "version": "3.10.9"
  }
 },
 "nbformat": 4,
 "nbformat_minor": 5
}
