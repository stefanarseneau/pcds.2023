{
 "cells": [
  {
   "cell_type": "markdown",
   "id": "5a90a14e-6f10-496b-b8f5-d4c3776d12a9",
   "metadata": {},
   "source": [
    "\n",
    "### Motivation for this Class\n",
    "\n",
    "* Modern computer hardware is parallel at all scales:\n",
    "  * Instruction-level parallelism -- individual processor cores exceute 10s to 100s of instructions at the same time\n",
    "      * processor pipelines execute single instructions over many cycles\n",
    "      * vector computing executes the same instruction on a vector of data\n",
    "  * Multi-core parallelism -- single 'processors' consist of many indpendendent cores\n",
    "  * Multi-processor (Non-Uniform Memory Architecture) parallelism -- many chips intergrated into same computer\n",
    "  * Distributed parallelism -- many computers connected over a network\n",
    "      * Cloud computing\n",
    "      * Supercomputing\n",
    "* Why do we need to use the parallelism? Good utilization leads to:\n",
    "    * Energy efficiency--operating energy of a system constant (to a first approximation). More FLOPSs per watt\n",
    "    * Cost efficiency--fixed cost to acquire hardware. More FLOPs per \\$\\$.\n",
    "    * Scalability--limits to how much hardware can be integrated efficiently.  Solve bigger problems.\n",
    "        * number of cores on a die\n",
    "        * number of processors on a system bus\n",
    "        * number of nodes on a network.\n",
    "    * So, save the earth, make more money, solve the hardest problems.\n",
    "        * Parallel computing is the technology that unlocked AI and started the AI revolution in 2013.\n",
    "        \n",
    "    \n"
   ]
  },
  {
   "cell_type": "markdown",
   "id": "0c1165a1-fe91-4624-94f0-789aeed6f917",
   "metadata": {},
   "source": [
    "### A Comment on the CS Curriculum\n",
    "\n",
    "The  computer science curriculum often fails to adequately address parallelism. \n",
    "\n",
    "* The 'discipline' of CS has been built on serial algorithm and machine models\n",
    "    * Computational complexity counts serial instructions\n",
    "    * (Most) Programming languages express one instruction after another\n",
    "    * Systems and archiecture build on the Von Neumann machine.\n",
    "* These are powerful concepts and what you have learned so far.\n",
    "* They are inadequate (at best) and deceptive.\n",
    "\n",
    "![Turing Machhine Cartoon](https://i0.wp.com/www.worldofcomputing.net/wp-content/uploads/2013/01/turingMachine.gif?zoom=2&resize=400%2C274 \"Cartoon\")\n",
    "\n",
    "* Universal Turing Machine\n",
    "\n",
    "<img src=\"https://upload.wikimedia.org/wikipedia/commons/thumb/4/43/Universal_Turing_machine.svg/1600px-Universal_Turing_machine.svg.png\" width=\"512\" title=\"Universal TM\" />\n",
    "\n",
    "* Von Neumann Architecture\n",
    "\n",
    "<img src=\"https://upload.wikimedia.org/wikipedia/commons/thumb/e/e5/Von_Neumann_Architecture.svg/2880px-Von_Neumann_Architecture.svg.png\" width=\"512\" title=\"Von Neumann Architecture\" />    \n"
   ]
  },
  {
   "cell_type": "markdown",
   "id": "c7f0540a-2e43-4ee5-ab92-a91cdcdb3605",
   "metadata": {},
   "source": [
    "### Who should take this course?\n",
    " \n",
    "Recognizing the significance of parallelism in modern computing, this class aims to bridge the gap by providing students with a comprehensive understanding of parallel computing principles, techniques, and best practices. By equipping students with the necessary knowledge and skills, the class seeks to empower them to leverage parallelism effectively and efficiently.\n",
    "\n",
    "This course is designed for the following audiences:\n",
    "\n",
    "* Undergraduates in Computer Science: The course offers a quick lift of skills that are highly valuable to employers and can enhance internship prospects. By taking this course, students can acquire practical parallel computing skills that are in demand in various industries.\n",
    "\n",
    "* Graduate students in Science and Engineering: The course is designed to minimize dependencies on other computer science courses, making it accessible to students from diverse academic backgrounds. The course provides a self-contained treatment of operating systems, computer architecture, and other relevant topics.\n",
    " \n",
    "The course takes an engineering and programming approach, focusing on practical applications rather than delving deeply into the theoretical aspects of parallel computation. This approach makes the course accessible and beneficial to individuals who are more interested in understanding how programming languages interact with hardware architecture, particularly the memory system.\n",
    "   "
   ]
  },
  {
   "cell_type": "code",
   "execution_count": null,
   "id": "6ac1d568-77b9-43b1-a73b-2435db92b7c4",
   "metadata": {},
   "outputs": [],
   "source": []
  }
 ],
 "metadata": {
  "kernelspec": {
   "display_name": "Python 3 (ipykernel)",
   "language": "python",
   "name": "python3"
  },
  "language_info": {
   "codemirror_mode": {
    "name": "ipython",
    "version": 3
   },
   "file_extension": ".py",
   "mimetype": "text/x-python",
   "name": "python",
   "nbconvert_exporter": "python",
   "pygments_lexer": "ipython3",
   "version": "3.10.9"
  }
 },
 "nbformat": 4,
 "nbformat_minor": 5
}
