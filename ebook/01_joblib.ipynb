{
 "cells": [
  {
   "cell_type": "markdown",
   "id": "0171f7d2-7bb8-4b34-abd2-8da539a26eb1",
   "metadata": {},
   "source": [
    "## JobLib: A First Parallel Program\n",
    "\n",
    "<div class=\"alert alert-success\">\n",
    "    This example is derived from Chapter 1 of Mattson, <i>Parallel Computing for Data Science</i>. The example in that chapter has been reimplemented in Python and the content and tone do not follow Mattson exactly.\n",
    "</div>\n",
    "\n",
    "\n",
    "    \n",
    "### Mutual Outlinks -- A First Parallel Program\n",
    "    \n",
    "Big data analytics and graph processing grew out of the desire to understand the structure of Internet content and user behavior. The most famous example is the [Page Rank algorithm](https://en.wikipedia.org/wiki/PageRank), which changed the nature of Internet search and was crucial in the creation and early success of Google. We will look at PageRank in more detail later in the course.\n",
    "    \n",
    "For now, we are going to look at a simpler (but, typical and important) problem. The goal is to identify Web pages that link to the same content. Multiple Web pages that link to the same content may represent:\n",
    "  * content clusters, i.e. similar pages\n",
    "  * search engine gamification, i.e. unimportant pages that are trying to increase the ranking of target pages\n",
    "    \n",
    " The input to this problem is a directed graph. Each Web page is a node in the graph and edges represent outlinks."
   ]
  },
  {
   "cell_type": "code",
   "execution_count": 2,
   "id": "9f7a1ec3-9c9b-411c-8db3-3e1db695e396",
   "metadata": {
    "tags": []
   },
   "outputs": [
    {
     "data": {
      "image/png": "[encoded data removed]",
      "text/plain": [
       "<Figure size 432x288 with 1 Axes>"
      ]
     },
     "metadata": {},
     "output_type": "display_data"
    }
   ],
   "source": [
    "import networkx as nx\n",
    "import matplotlib.pyplot as plt\n",
    "import numpy as np\n",
    "\n",
    "%matplotlib inline\n",
    "\n",
    "G = nx.erdos_renyi_graph(5,0.8, directed=True)\n",
    "nx.draw_networkx(G, pos=nx.spring_layout(G), with_labels=False, node_size=50)"
   ]
  },
  {
   "cell_type": "code",
   "execution_count": 4,
   "id": "075cf02b-2d31-4d69-9efc-5d7ae84534dd",
   "metadata": {
    "tags": []
   },
   "outputs": [
    {
     "data": {
      "text/plain": [
       "array([[0., 1., 1., 1., 1.],\n",
       "       [1., 0., 1., 1., 1.],\n",
       "       [1., 0., 0., 1., 0.],\n",
       "       [1., 1., 1., 0., 0.],\n",
       "       [1., 1., 1., 1., 0.]])"
      ]
     },
     "execution_count": 4,
     "metadata": {},
     "output_type": "execute_result"
    }
   ],
   "source": [
    "gmat = nx.to_numpy_array(G)\n",
    "gmat"
   ]
  },
  {
   "cell_type": "code",
   "execution_count": 12,
   "id": "5cbd343e-4b20-4f5f-b104-f8257f76bfc4",
   "metadata": {},
   "outputs": [
    {
     "data": {
      "text/plain": [
       "5"
      ]
     },
     "execution_count": 12,
     "metadata": {},
     "output_type": "execute_result"
    }
   ],
   "source": [
    "gmat.shape[0]"
   ]
  },
  {
   "cell_type": "code",
   "execution_count": 21,
   "id": "755c56f2-0f52-4ce5-8cce-267a5dc64c59",
   "metadata": {},
   "outputs": [
    {
     "name": "stdout",
     "output_type": "stream",
     "text": [
      "[0. 1. 1. 1. 1.]\n",
      "[1. 0. 1. 1. 1.]\n",
      "Shared page links: 3.0\n"
     ]
    }
   ],
   "source": [
    "# This means that pages 0 and 1 link to 3 of the same pages\n",
    "print(gmat[0,:])#.reshape(-1))\n",
    "print(gmat[1,:])#.reshape(-1))\n",
    "print('Shared page links:', np.dot(np.asarray(gmat[0,:]), np.asarray(gmat[j,:])))"
   ]
  },
  {
   "cell_type": "markdown",
   "id": "4290179b-d328-47b7-93e7-8a5966fd922a",
   "metadata": {},
   "source": [
    "The natural algorithm uses a binary (0/1) matrix representation of the graph in which the rows and columns are node identifiers and nonzero entries indicate an outbound edge. The algorithm uses nested loops to iterate over all pairs of rows, computing a vector dot product that sums that number of mutual outlinks. "
   ]
  },
  {
   "cell_type": "code",
   "execution_count": 22,
   "id": "4fd5990f-117b-426f-96d0-50b242771af4",
   "metadata": {
    "tags": []
   },
   "outputs": [
    {
     "data": {
      "text/plain": [
       "array([[0., 3., 1., 2., 3.],\n",
       "       [0., 0., 2., 2., 3.],\n",
       "       [0., 0., 0., 1., 2.],\n",
       "       [0., 0., 0., 0., 3.],\n",
       "       [0., 0., 0., 0., 0.]])"
      ]
     },
     "execution_count": 22,
     "metadata": {},
     "output_type": "execute_result"
    }
   ],
   "source": [
    "gmat = nx.to_numpy_array(G)\n",
    "\n",
    "outmat = np.zeros(gmat.shape)\n",
    "\n",
    "for i in range(gmat.shape[0]):\n",
    "    for j in range(i+1,gmat.shape[1]):      \n",
    "        outmat[i,j] = np.dot(np.asarray(gmat[i,:]), np.asarray(gmat[j,:]))\n",
    "outmat"
   ]
  },
  {
   "cell_type": "markdown",
   "id": "5bf4f478-1cfb-4be1-8179-dcf2101df5c0",
   "metadata": {},
   "source": [
    "Observe that the output matrix is an upper right triangular matrix. The lower left matrix if computed would be symmetric and redundant. We're trying to make code fast here. So, let's do no unneccessary work.\n",
    "\n",
    "Getting this code right is very touchy. You have to take the dot product of _arrays_ not matrixes, this is done through `reshape` which projects a 1xN matrix into a N element array.\n",
    "\n",
    "**Note**: We will not describe the individual operations in each example. The reader/student might use ChatGPT for code summaries to interpret the code line-by-line. This is a common practice and very effective, although ChatGPT is not always right.\n",
    "\n",
    "### Aside: The Power of Python\n",
    "\n",
    "Python has emerged as the language of choice for data science, Web development, and machine learning. The simplicity and concision of this program demonstrate why. Python is by no means the consensus __best__ language and many programming language experts have great disdain for Python's dynamic typing and syntax idiosyncracies (among other complaints). Much of what makes Python great is that Python is great! There is a huge network effect that has led to:\n",
    "  * an incredible number of high-quality and well maintained packages\n",
    "  * a huge user community that provides answers to every possible question you might have on Stack Overflow\n",
    "  * ridiculously wonderful development tools\n",
    "  * support on every platform that you can imagine\n",
    "  \n",
    "Here are reasons why I prefer Python to other languages. These are my opinions and not right:\n",
    "  * Go: a better language that is useless because it has no reasonable debugging tools\n",
    "  * R: a better language, but I cannot remember the syntax and am constantly looking stuff up\n",
    "  * Perl/PHP: a worse language with even looser rules and more pitfalls than Python\n",
    "  * JavaScript: too niche\n",
    "  * and so on\n",
    "  \n",
    "Ironically, Python is **the worst** language for parallelism. There is a single choke point that prevents Python from running any two operations in parallel. This is called the `Global Interpreter Lock (GIL)`. We will look at this more deeply later. To realize parallelism in Python, we must work around this lock with a bunch of creative methods. \n",
    "\n",
    "#### Python Packages\n",
    "\n",
    "Our example leverages three important data science packages:\n",
    "  * numpy -- dense vector and matrix operations \n",
    "  * networkx -- graph and network analysis\n",
    "  * matplotlib -- graph and visualization \n",
    "  \n",
    "These package encapsulate complex functions so that you, the programmer, do not have to write them. Python packages encapsulate arbitrarily complex tasks in a single line of code. In this case:\n",
    "  * generate an Erdos-Renyi random graph\n",
    "  * display a planar representation of the graph\n",
    "  * convert the graph to a binary matrix\n",
    "  * compute the inner product of two vectors\n",
    "\n",
    "### Back to the Example\n",
    "\n",
    "Now let's generate a big graph and we'll start our performance analysis. Let's look at a serial version on a graph with 1000 nodes and about 5 outbound edges per node. "
   ]
  },
  {
   "cell_type": "code",
   "execution_count": 24,
   "id": "3b98ea36-8090-487b-8bd2-9bbf8aaf5e37",
   "metadata": {
    "tags": []
   },
   "outputs": [
    {
     "data": {
      "text/plain": [
       "9879"
      ]
     },
     "execution_count": 24,
     "metadata": {},
     "output_type": "execute_result"
    },
    {
     "data": {
      "image/png": "[encoded data removed]",
      "text/plain": [
       "<Figure size 432x288 with 1 Axes>"
      ]
     },
     "metadata": {},
     "output_type": "display_data"
    }
   ],
   "source": [
    "G= nx.erdos_renyi_graph(1000,0.01,directed=True)\n",
    "nx.draw_networkx(G, pos=nx.spring_layout(G), with_labels=False, node_size=10)\n",
    "G.number_of_edges()"
   ]
  },
  {
   "cell_type": "markdown",
   "id": "770c8f4c-9ddd-408f-a978-9644dfce1ecf",
   "metadata": {},
   "source": [
    "For a graph this large, we cannot look at the matrix. We track the number of edges and mutual outlinks as a quick check to make sure that subsequent versions of the program produce the same output. "
   ]
  },
  {
   "cell_type": "code",
   "execution_count": 25,
   "id": "81a5d7ae-55c0-4ca7-9b4c-55def7fee1af",
   "metadata": {
    "tags": []
   },
   "outputs": [
    {
     "data": {
      "text/plain": [
       "46203"
      ]
     },
     "execution_count": 25,
     "metadata": {},
     "output_type": "execute_result"
    }
   ],
   "source": [
    "import numpy as np\n",
    "\n",
    "gmat = nx.to_numpy_array(G)\n",
    "\n",
    "outmat = np.zeros(gmat.shape)\n",
    "\n",
    "for i in range(gmat.shape[0]):\n",
    "    for j in range(i+1,gmat.shape[1]):        \n",
    "        outmat[i,j] = np.dot(np.asarray(gmat[i,:]).reshape(-1), np.asarray(gmat[j,:]).reshape(-1))\n",
    "        \n",
    "np.count_nonzero(outmat)"
   ]
  },
  {
   "cell_type": "markdown",
   "id": "2f346db9-ae5d-43c1-acc5-0ec27206f441",
   "metadata": {},
   "source": [
    "Jupyter has nice `magics` that inject a bunch of code to realize some goal.  The `%timeit` magic runs an experiment to time the performance of a command and ``%%timeit`` runs the experiment on an entire Jupyter cell."
   ]
  },
  {
   "cell_type": "code",
   "execution_count": 26,
   "id": "b34100f2-bdfc-4c59-abff-df7d62830c0c",
   "metadata": {
    "tags": []
   },
   "outputs": [
    {
     "name": "stdout",
     "output_type": "stream",
     "text": [
      "2.4 s ± 90.3 ms per loop (mean ± std. dev. of 7 runs, 1 loop each)\n"
     ]
    }
   ],
   "source": [
    "%%timeit\n",
    "\n",
    "outmat = np.zeros(gmat.shape)\n",
    "\n",
    "for i in range(gmat.shape[0]):\n",
    "    for j in range(i+1,gmat.shape[1]):        \n",
    "        outmat[i,j] = np.dot(np.asarray(gmat[i,:]).reshape(-1), np.asarray(gmat[j,:]).reshape(-1))"
   ]
  },
  {
   "cell_type": "markdown",
   "id": "f860e3b2-be46-4e7a-a3be-5e5f8b0a4e73",
   "metadata": {},
   "source": [
    "This is the serial performance. Let's parallelize the program and compare. We will use the _loop parellelism_ pattern (Mattson Chapter 4, more on this later.) Our first parallel program will decompose the matrix into chunks of rows and compute the partial result from each chunk. It then assembles the partial results into a matrix so that the parallel computation produces the same result as the serial.\n",
    "\n",
    "`joblib` is a python package for parallelism. It inherits limitations from Python, but it is easy to use. This is the simplest program.\n",
    "\n",
    "<img src=\"https://storage.googleapis.com/coderzcolumn/static/tutorials/python/article_image/joblib.jpg\" width=\"512\" title=\"joblib\" /> \n"
   ]
  },
  {
   "cell_type": "code",
   "execution_count": 27,
   "id": "45fffa08-b80f-4222-bf34-50ee59eed367",
   "metadata": {},
   "outputs": [
    {
     "data": {
      "text/plain": [
       "(1000, 1000)"
      ]
     },
     "execution_count": 27,
     "metadata": {},
     "output_type": "execute_result"
    }
   ],
   "source": [
    "gmat.shape"
   ]
  },
  {
   "cell_type": "code",
   "execution_count": 28,
   "id": "9b45a662-cc7f-459b-9bd3-139dbdffcad0",
   "metadata": {
    "tags": []
   },
   "outputs": [
    {
     "data": {
      "text/plain": [
       "46203"
      ]
     },
     "execution_count": 28,
     "metadata": {},
     "output_type": "execute_result"
    }
   ],
   "source": [
    "def inner_loop(i):\n",
    "    partial_out = np.zeros(gmat.shape[1])\n",
    "    for j in range(i+1,gmat.shape[1]):    \n",
    "        partial_out[j] = np.dot(np.asarray(gmat[i,:]).reshape(-1), np.asarray(gmat[j,:]).reshape(-1))    \n",
    "    return partial_out\n",
    "    \n",
    "from joblib import Parallel, delayed\n",
    "partials = Parallel(n_jobs=8)(delayed(inner_loop)(i) for i in range(gmat.shape[0]))\n",
    "\n",
    "outmat = np.array(partials)\n",
    "np.count_nonzero(outmat)"
   ]
  },
  {
   "cell_type": "markdown",
   "id": "43e637b5-5347-45be-a919-ab109a10ae93",
   "metadata": {},
   "source": [
    "OK, let's time it."
   ]
  },
  {
   "cell_type": "code",
   "execution_count": 29,
   "id": "e1499dd4-08e9-4b77-91bd-59b9d642b7dc",
   "metadata": {
    "tags": []
   },
   "outputs": [
    {
     "name": "stdout",
     "output_type": "stream",
     "text": [
      "2.61 s ± 105 ms per loop (mean ± std. dev. of 7 runs, 1 loop each)\n"
     ]
    }
   ],
   "source": [
    "%%timeit\n",
    "\n",
    "partials = Parallel(n_jobs=4)(delayed(inner_loop)(i) for i in range(gmat.shape[0]))"
   ]
  },
  {
   "cell_type": "markdown",
   "id": "3d47159f-2017-4426-971e-8037a93f4168",
   "metadata": {},
   "source": [
    "Great? That's faster, but not as fast as we would like. We are using mulitple processors, we would naively expect it to speed up in proportion to the number of processors. Alas, that's not the case. The next lecture on **Amdahl's Law** will explore some of the reasons why. Limitations in python account for the rest."
   ]
  },
  {
   "cell_type": "markdown",
   "id": "ae79e1a6-3f1e-43c6-adda-caf6b60945bc",
   "metadata": {},
   "source": [
    "### `joblib` parallelism\n",
    "\n",
    "What is `joblib` doing?\n",
    "  * `delayed`: define a function call, delay its execution until later\n",
    "  * create a generator that will enumerate all the delayed functions\n",
    "  * `Parallel` create multiple independent \"workers\" that split the list of work to do into `n_jobs` parts and run the delayed functions in parallel.\n",
    "  \n"
   ]
  },
  {
   "cell_type": "markdown",
   "id": "df2a9b4e-50ce-498c-b268-0c6b58147038",
   "metadata": {},
   "source": [
    "## Poor Parallelism in Python and the GIL\n",
    "\n",
    "I previoulsy told you that Python was the **worst** language for parallelism.  This is due to something called the **Global Interpreter Lock (GIL)**. The GIL makes it so that an instance of the Python runtime accepts only a single instruction at a time. Because of the GIL, running multiple threads in Python provides concurrency, but not parallelism.\n",
    "  * *concurrent*: at the same time \n",
    "  * *parallel*: simultaneously\n",
    "  \n",
    "This is a subtle distinction. The best way to think about it is that `concurrency` means that multiple, asynchronous actions are defined. `parallelism` means that mutliple resources are computing at the same time.  Think of concurrency as a programming abstraction and parallelism as computing. \n",
    "  * Parallel programs must be concurrent. \n",
    "  * Concurrent programs are not necessarily run in parallel.\n",
    "  \n",
    "Let's do an example. Python `threads` are concurrent, but the GIL makes it so that Python only runs one instruction at a time. A simple program run serially and concurrently in threads will have about the same performance."
   ]
  },
  {
   "cell_type": "code",
   "execution_count": 30,
   "id": "4ee0c890-03e8-434d-a59b-9a34f912ec97",
   "metadata": {
    "tags": []
   },
   "outputs": [],
   "source": [
    "from random import random\n",
    "\n",
    "def gen_random_01(count):\n",
    "    for i in range(count):\n",
    "        random()\n",
    "        \n",
    "gen_random_01(10)"
   ]
  },
  {
   "cell_type": "code",
   "execution_count": 31,
   "id": "e7319494-10fd-4396-a787-78a07610f815",
   "metadata": {
    "tags": []
   },
   "outputs": [
    {
     "name": "stdout",
     "output_type": "stream",
     "text": [
      "904 ms ± 53.7 ms per loop (mean ± std. dev. of 7 runs, 1 loop each)\n"
     ]
    }
   ],
   "source": [
    "%%timeit \n",
    "\n",
    "gen_random_01(10000000)"
   ]
  },
  {
   "cell_type": "code",
   "execution_count": 32,
   "id": "5cc4ad1c-a8ac-4ce4-87b7-5bd9bffe47aa",
   "metadata": {
    "tags": []
   },
   "outputs": [
    {
     "name": "stdout",
     "output_type": "stream",
     "text": [
      "985 ms ± 160 ms per loop (mean ± std. dev. of 7 runs, 1 loop each)\n"
     ]
    }
   ],
   "source": [
    "%%timeit \n",
    "\n",
    "from threading import Thread\n",
    "\n",
    "for i in range(4):\n",
    "  Thread(target=gen_random_01, args=(2500000,)).start()"
   ]
  },
  {
   "cell_type": "markdown",
   "id": "c7b76b3c-ef15-455c-900d-efdafe3f7eac",
   "metadata": {},
   "source": [
    "To realize parallelism, one must use processes that create multiple seperate Python interpreters each with its own GIL."
   ]
  },
  {
   "cell_type": "code",
   "execution_count": 33,
   "id": "75695452-e337-4831-9b78-4050df52d2f8",
   "metadata": {
    "tags": []
   },
   "outputs": [
    {
     "name": "stdout",
     "output_type": "stream",
     "text": [
      "27.7 ms ± 1.48 ms per loop (mean ± std. dev. of 7 runs, 10 loops each)\n"
     ]
    }
   ],
   "source": [
    "%%timeit\n",
    "\n",
    "from multiprocessing import Process\n",
    "\n",
    "if __name__ == '__main__':\n",
    "        \n",
    "    for num in range(4):\n",
    "        Process(target=gen_random_01, args=(2500000,)).start()"
   ]
  },
  {
   "cell_type": "markdown",
   "id": "7e307866-3b9c-4db6-bcb3-d8b90c187137",
   "metadata": {},
   "source": [
    "Although this realizes parallelism, creating mutliple Python instances has a bunch of overhead. We will dive into this later when we discuss threads and processes as operating systems abstractions. Parallel threads are more efficient than processes on a multicore computer. It's a shortcoming of Python that it cannot do parallelism in threads.\n",
    "\n",
    "You will hear language about 'optimized packages that release the GIL'. The idea is that the functions release the lock during execution so that other threads can access the Python interpreter while the function is running. Packages that release the GIL realize parallelism in threads.  Each thread will:\n",
    "  1. acquire the GIL\n",
    "  2. execute a command in the Python interpreter\n",
    "  3. release the GIL at the start of execution\n",
    "  4. continue execution\n",
    "  \n",
    "This works sometimes. It requires careful programming by the package maintainer. Personally, I have found threads to be ineffective in Python. To realize parallelism, every function that you call inside a thread must release the GIL."
   ]
  },
  {
   "cell_type": "code",
   "execution_count": null,
   "id": "ffad0e12-15bb-4c41-8e7a-3760c8217f28",
   "metadata": {},
   "outputs": [],
   "source": []
  }
 ],
 "metadata": {
  "kernelspec": {
   "display_name": "Python 3 (ipykernel)",
   "language": "python",
   "name": "python3"
  },
  "language_info": {
   "codemirror_mode": {
    "name": "ipython",
    "version": 3
   },
   "file_extension": ".py",
   "mimetype": "text/x-python",
   "name": "python",
   "nbconvert_exporter": "python",
   "pygments_lexer": "ipython3",
   "version": "3.9.7"
  }
 },
 "nbformat": 4,
 "nbformat_minor": 5
}
